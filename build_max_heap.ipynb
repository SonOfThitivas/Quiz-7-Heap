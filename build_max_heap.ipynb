{
 "cells": [
  {
   "cell_type": "markdown",
   "metadata": {},
   "source": [
    "# Write a function build_max_heap(A) that builds max heap. #"
   ]
  },
  {
   "cell_type": "code",
   "execution_count": 65,
   "metadata": {},
   "outputs": [],
   "source": [
    "def hearify(arr, n, i):\n",
    "    LeftChildIndex, RightChildIndex = 2*i + 1, 2*i + 2  # get index of childs\n",
    "    \n",
    "    if i > n//2-1:                                  # base case, beware list is out of range\n",
    "        return\n",
    "    \n",
    "    try:                                            # two childs case\n",
    "        if arr[RightChildIndex] > arr[i] and arr[RightChildIndex] > arr[LeftChildIndex]:\n",
    "            arr[RightChildIndex], arr[i] = arr[i], arr[RightChildIndex]\n",
    "        elif arr[LeftChildIndex] > arr[i] and arr[LeftChildIndex] > arr[RightChildIndex]:\n",
    "            arr[LeftChildIndex], arr[i] = arr[i], arr[LeftChildIndex]\n",
    "    except:                                         # one child case\n",
    "        if arr[LeftChildIndex] > arr[i]:\n",
    "            arr[LeftChildIndex], arr[i] = arr[i], arr[LeftChildIndex]\n",
    "            \n",
    "    hearify(arr, n, i+1)                            # recursive to check hearify of childs\n",
    "\n",
    "def build_max_heap(A):\n",
    "    n = len(A)\n",
    "    for i in range(n//2-1,-1,-1):                   # start at the last root to the first root\n",
    "        hearify(A, n, i)                            # check the hearify of root   \n",
    "        print(A)"
   ]
  },
  {
   "cell_type": "markdown",
   "metadata": {},
   "source": [
    "# Case Example #"
   ]
  },
  {
   "cell_type": "code",
   "execution_count": 66,
   "metadata": {},
   "outputs": [
    {
     "name": "stdout",
     "output_type": "stream",
     "text": [
      "[1, 12, 10, 5, 6, 9]\n",
      "[1, 12, 10, 5, 6, 9]\n",
      "[12, 6, 10, 5, 1, 9]\n"
     ]
    }
   ],
   "source": [
    "A = [1, 12, 9, 5, 6, 10]\n",
    "build_max_heap(A)"
   ]
  },
  {
   "cell_type": "code",
   "execution_count": 67,
   "metadata": {},
   "outputs": [
    {
     "name": "stdout",
     "output_type": "stream",
     "text": [
      "[14, 5, 8, 25, 9, 11, 23, 16, 15, 4, 12, 6, 7, 17, 20]\n",
      "[14, 5, 8, 25, 9, 11, 23, 16, 15, 4, 12, 6, 7, 17, 20]\n",
      "[14, 5, 8, 25, 12, 11, 23, 16, 15, 4, 9, 6, 7, 17, 20]\n",
      "[14, 5, 8, 25, 12, 11, 23, 16, 15, 4, 9, 6, 7, 17, 20]\n",
      "[14, 5, 23, 25, 12, 11, 20, 16, 15, 4, 9, 6, 7, 17, 8]\n",
      "[14, 25, 23, 16, 12, 11, 20, 5, 15, 4, 9, 6, 7, 17, 8]\n",
      "[25, 16, 23, 15, 12, 11, 20, 5, 14, 4, 9, 6, 7, 17, 8]\n"
     ]
    }
   ],
   "source": [
    "A = [14, 5, 8, 25, 9, 11, 17, 16, 15, 4, 12, 6, 7, 23, 20]\n",
    "build_max_heap(A)"
   ]
  },
  {
   "cell_type": "code",
   "execution_count": 68,
   "metadata": {},
   "outputs": [
    {
     "name": "stdout",
     "output_type": "stream",
     "text": [
      "[7, 4, 8, 2, 5, 3]\n",
      "[7, 5, 8, 2, 4, 3]\n",
      "[8, 5, 7, 2, 4, 3]\n"
     ]
    }
   ],
   "source": [
    "A = [7, 4, 8, 2, 5, 3]\n",
    "build_max_heap(A)"
   ]
  }
 ],
 "metadata": {
  "kernelspec": {
   "display_name": "Python 3",
   "language": "python",
   "name": "python3"
  },
  "language_info": {
   "codemirror_mode": {
    "name": "ipython",
    "version": 3
   },
   "file_extension": ".py",
   "mimetype": "text/x-python",
   "name": "python",
   "nbconvert_exporter": "python",
   "pygments_lexer": "ipython3",
   "version": "3.12.1"
  }
 },
 "nbformat": 4,
 "nbformat_minor": 2
}
