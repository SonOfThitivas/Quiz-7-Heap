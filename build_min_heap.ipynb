{
 "cells": [
  {
   "cell_type": "markdown",
   "metadata": {},
   "source": [
    "# Write a function build_min_heap(A) that builds min heap. #"
   ]
  },
  {
   "cell_type": "code",
   "execution_count": 47,
   "metadata": {},
   "outputs": [],
   "source": [
    "def hearify(arr, n, i):\n",
    "    LeftChildIndex, RightChildIndex = 2*i + 1, 2*i + 2  # get index of childs\n",
    "    \n",
    "    if i > n//2-1:                                  # base case, beware list is out of range\n",
    "        return\n",
    "    \n",
    "    try:                                            # two childs case\n",
    "        if arr[RightChildIndex] < arr[i] and arr[RightChildIndex] < arr[LeftChildIndex]:\n",
    "            arr[RightChildIndex], arr[i] = arr[i], arr[RightChildIndex]\n",
    "        elif arr[LeftChildIndex] < arr[i] and arr[LeftChildIndex] < arr[RightChildIndex]:\n",
    "            arr[LeftChildIndex], arr[i] = arr[i], arr[LeftChildIndex]\n",
    "    except:                                         # one child case\n",
    "        if arr[LeftChildIndex] < arr[i]:\n",
    "            arr[LeftChildIndex], arr[i] = arr[i], arr[LeftChildIndex]\n",
    "            \n",
    "    hearify(arr, n, i+1)                            # recursive to check hearify of childs\n",
    "\n",
    "def build_min_heap(A):\n",
    "    n = len(A)\n",
    "    for i in range(n//2-1,-1,-1):                   # start at the last root to the first root\n",
    "        hearify(A, n, i)                            # check the hearify of root   \n",
    "        print(A)"
   ]
  },
  {
   "cell_type": "markdown",
   "metadata": {},
   "source": [
    "# Case Example #"
   ]
  },
  {
   "cell_type": "code",
   "execution_count": 48,
   "metadata": {},
   "outputs": [
    {
     "name": "stdout",
     "output_type": "stream",
     "text": [
      "[1, 12, 9, 5, 6, 10]\n",
      "[1, 5, 9, 12, 6, 10]\n",
      "[1, 5, 9, 12, 6, 10]\n"
     ]
    }
   ],
   "source": [
    "A = [1, 12, 9, 5, 6, 10]\n",
    "build_min_heap(A)"
   ]
  },
  {
   "cell_type": "code",
   "execution_count": 49,
   "metadata": {},
   "outputs": [
    {
     "name": "stdout",
     "output_type": "stream",
     "text": [
      "[14, 5, 8, 25, 9, 11, 17, 16, 15, 4, 12, 6, 7, 23, 20]\n",
      "[14, 5, 8, 25, 9, 6, 17, 16, 15, 4, 12, 11, 7, 23, 20]\n",
      "[14, 5, 8, 25, 4, 6, 17, 16, 15, 9, 12, 11, 7, 23, 20]\n",
      "[14, 5, 8, 15, 4, 6, 17, 16, 25, 9, 12, 11, 7, 23, 20]\n",
      "[14, 5, 6, 15, 4, 7, 17, 16, 25, 9, 12, 11, 8, 23, 20]\n",
      "[14, 4, 6, 15, 5, 7, 17, 16, 25, 9, 12, 11, 8, 23, 20]\n",
      "[4, 5, 6, 15, 9, 7, 17, 16, 25, 14, 12, 11, 8, 23, 20]\n"
     ]
    }
   ],
   "source": [
    "A = [14, 5, 8, 25, 9, 11, 17, 16, 15, 4, 12, 6, 7, 23, 20]\n",
    "build_min_heap(A)"
   ]
  },
  {
   "cell_type": "code",
   "execution_count": 50,
   "metadata": {},
   "outputs": [
    {
     "name": "stdout",
     "output_type": "stream",
     "text": [
      "[3, 9, 2, 1, 4, 5]\n",
      "[3, 1, 2, 9, 4, 5]\n",
      "[1, 3, 2, 9, 4, 5]\n"
     ]
    }
   ],
   "source": [
    "A = [3, 9, 2, 1, 4, 5]\n",
    "build_min_heap(A)"
   ]
  }
 ],
 "metadata": {
  "kernelspec": {
   "display_name": "Python 3",
   "language": "python",
   "name": "python3"
  },
  "language_info": {
   "codemirror_mode": {
    "name": "ipython",
    "version": 3
   },
   "file_extension": ".py",
   "mimetype": "text/x-python",
   "name": "python",
   "nbconvert_exporter": "python",
   "pygments_lexer": "ipython3",
   "version": "3.12.1"
  }
 },
 "nbformat": 4,
 "nbformat_minor": 2
}
