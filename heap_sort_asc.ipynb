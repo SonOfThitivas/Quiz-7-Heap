{
 "cells": [
  {
   "cell_type": "markdown",
   "metadata": {},
   "source": [
    "# Write a function heap_sort_asc(A) that sorts A in ascending order. #"
   ]
  },
  {
   "cell_type": "code",
   "execution_count": 89,
   "metadata": {},
   "outputs": [],
   "source": [
    "def hearify(arr, n, i):\n",
    "    LeftChildIndex, RightChildIndex = 2*i + 1, 2*i + 2  # get index of childs\n",
    "    \n",
    "    if i > n//2-1:                                  # base case, beware list is out of range\n",
    "        return\n",
    "    \n",
    "    try:                                            # two childs case\n",
    "        if arr[RightChildIndex] > arr[i] and arr[RightChildIndex] > arr[LeftChildIndex]:\n",
    "            arr[RightChildIndex], arr[i] = arr[i], arr[RightChildIndex]\n",
    "        elif arr[LeftChildIndex] > arr[i] and arr[LeftChildIndex] > arr[RightChildIndex]:\n",
    "            arr[LeftChildIndex], arr[i] = arr[i], arr[LeftChildIndex]\n",
    "    except:                                         # one child case\n",
    "        if arr[LeftChildIndex] > arr[i]:\n",
    "            arr[LeftChildIndex], arr[i] = arr[i], arr[LeftChildIndex]\n",
    "            \n",
    "    hearify(arr, n, i+1)                            # recursive to check hearify of childs\n",
    "\n",
    "def build_max_heap(A):\n",
    "    n = len(A)\n",
    "    for i in range(n//2-1,-1,-1):                   # start at the last root to the first root\n",
    "        hearify(A, n, i)                            # check the hearify of root   \n",
    "    return A\n",
    "\n",
    "def heap_sort_asc(A):\n",
    "    TempSorted = []                                 # collect the sorted\n",
    "    build_max_heap(A)                               # convert to max heap  \n",
    "    print(A)\n",
    "    \n",
    "    for i in range(len(A)-1,-1,-1):                 # start the last one\n",
    "        if A[0] > A[i]:                             # swap\n",
    "            TempSorted.insert(0, A[0])              # collect sorted\n",
    "            A[0], A[i] = A[i], A[0]                 # swap the elements\n",
    "            A = build_max_heap(A[:i]) + TempSorted  # hearify them except the sorted one\n",
    "            print(A)"
   ]
  },
  {
   "cell_type": "markdown",
   "metadata": {},
   "source": [
    "# Case Example #"
   ]
  },
  {
   "cell_type": "code",
   "execution_count": 90,
   "metadata": {},
   "outputs": [
    {
     "name": "stdout",
     "output_type": "stream",
     "text": [
      "[12, 6, 10, 5, 1, 9]\n",
      "[10, 6, 9, 5, 1, 12]\n",
      "[9, 6, 1, 5, 10, 12]\n",
      "[6, 5, 1, 9, 10, 12]\n",
      "[5, 1, 6, 9, 10, 12]\n",
      "[1, 5, 6, 9, 10, 12]\n"
     ]
    }
   ],
   "source": [
    "A = [1, 12, 9, 5, 6, 10]\n",
    "heap_sort_asc(A)"
   ]
  },
  {
   "cell_type": "code",
   "execution_count": 91,
   "metadata": {},
   "outputs": [
    {
     "name": "stdout",
     "output_type": "stream",
     "text": [
      "[25, 16, 23, 15, 12, 11, 20, 5, 14, 4, 9, 6, 7, 17, 8]\n",
      "[23, 16, 20, 15, 12, 11, 17, 5, 14, 4, 9, 6, 7, 8, 25]\n",
      "[20, 16, 17, 15, 12, 11, 8, 5, 14, 4, 9, 6, 7, 23, 25]\n",
      "[17, 16, 11, 15, 12, 7, 8, 5, 14, 4, 9, 6, 20, 23, 25]\n",
      "[16, 15, 11, 14, 12, 7, 8, 5, 6, 4, 9, 17, 20, 23, 25]\n",
      "[15, 14, 11, 9, 12, 7, 8, 5, 6, 4, 16, 17, 20, 23, 25]\n",
      "[14, 12, 11, 9, 4, 7, 8, 5, 6, 15, 16, 17, 20, 23, 25]\n",
      "[12, 9, 11, 6, 4, 7, 8, 5, 14, 15, 16, 17, 20, 23, 25]\n",
      "[11, 9, 8, 6, 4, 7, 5, 12, 14, 15, 16, 17, 20, 23, 25]\n",
      "[9, 6, 8, 5, 4, 7, 11, 12, 14, 15, 16, 17, 20, 23, 25]\n",
      "[8, 6, 7, 5, 4, 9, 11, 12, 14, 15, 16, 17, 20, 23, 25]\n",
      "[7, 6, 4, 5, 8, 9, 11, 12, 14, 15, 16, 17, 20, 23, 25]\n",
      "[6, 5, 4, 7, 8, 9, 11, 12, 14, 15, 16, 17, 20, 23, 25]\n",
      "[5, 4, 6, 7, 8, 9, 11, 12, 14, 15, 16, 17, 20, 23, 25]\n",
      "[4, 5, 6, 7, 8, 9, 11, 12, 14, 15, 16, 17, 20, 23, 25]\n"
     ]
    }
   ],
   "source": [
    "A = [14, 5, 8, 25, 9, 11, 17, 16, 15, 4, 12, 6, 7, 23, 20]\n",
    "heap_sort_asc(A)"
   ]
  },
  {
   "cell_type": "code",
   "execution_count": 92,
   "metadata": {},
   "outputs": [
    {
     "name": "stdout",
     "output_type": "stream",
     "text": [
      "[9, 4, 5, 1, 3, 2]\n",
      "[5, 4, 2, 1, 3, 9]\n",
      "[4, 3, 2, 1, 5, 9]\n",
      "[3, 1, 2, 4, 5, 9]\n",
      "[2, 1, 3, 4, 5, 9]\n",
      "[1, 2, 3, 4, 5, 9]\n"
     ]
    }
   ],
   "source": [
    "A = [3, 9, 2, 1, 4, 5]\n",
    "heap_sort_asc(A)"
   ]
  }
 ],
 "metadata": {
  "kernelspec": {
   "display_name": "Python 3",
   "language": "python",
   "name": "python3"
  },
  "language_info": {
   "codemirror_mode": {
    "name": "ipython",
    "version": 3
   },
   "file_extension": ".py",
   "mimetype": "text/x-python",
   "name": "python",
   "nbconvert_exporter": "python",
   "pygments_lexer": "ipython3",
   "version": "3.12.1"
  }
 },
 "nbformat": 4,
 "nbformat_minor": 2
}
