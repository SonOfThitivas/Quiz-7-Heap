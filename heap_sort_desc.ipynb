{
 "cells": [
  {
   "cell_type": "markdown",
   "metadata": {},
   "source": [
    "# Write a function heap_sort_desc(A) that sorts A in descending order. #"
   ]
  },
  {
   "cell_type": "code",
   "execution_count": 15,
   "metadata": {},
   "outputs": [],
   "source": [
    "def hearify(arr, n, i):\n",
    "    LeftChildIndex, RightChildIndex = 2*i + 1, 2*i + 2  # get index of childs\n",
    "    \n",
    "    if i > n//2-1:                                  # base case, beware list is out of range\n",
    "        return\n",
    "    \n",
    "    try:                                            # two childs case\n",
    "        if arr[RightChildIndex] < arr[i] and arr[RightChildIndex] < arr[LeftChildIndex]:\n",
    "            arr[RightChildIndex], arr[i] = arr[i], arr[RightChildIndex]\n",
    "        elif arr[LeftChildIndex] < arr[i] and arr[LeftChildIndex] < arr[RightChildIndex]:\n",
    "            arr[LeftChildIndex], arr[i] = arr[i], arr[LeftChildIndex]\n",
    "    except:                                         # one child case\n",
    "        if arr[LeftChildIndex] < arr[i]:\n",
    "            arr[LeftChildIndex], arr[i] = arr[i], arr[LeftChildIndex]\n",
    "            \n",
    "    hearify(arr, n, i+1)                            # recursive to check hearify of childs\n",
    "\n",
    "def build_min_heap(A):\n",
    "    n = len(A)\n",
    "    for i in range(n//2-1,-1,-1):                   # start at the last root to the first root\n",
    "        hearify(A, n, i)                            # check the hearify of root   \n",
    "    return A\n",
    "        \n",
    "def heap_sort_desc(A):\n",
    "    TempSorted = []                                 # collect the sorted\n",
    "    build_min_heap(A)                               # convert to max heap  \n",
    "    print(A)\n",
    "    \n",
    "    for i in range(len(A)-1,-1,-1):                 # start the last one\n",
    "        if A[0] < A[i]:                             # swap\n",
    "            TempSorted.insert(0, A[0])              # collect sorted\n",
    "            A[0], A[i] = A[i], A[0]                 # swap the elements\n",
    "            A = build_min_heap(A[:i]) + TempSorted  # hearify them except the sorted one\n",
    "            print(A)"
   ]
  },
  {
   "cell_type": "markdown",
   "metadata": {},
   "source": [
    "# Case Exmaple #"
   ]
  },
  {
   "cell_type": "code",
   "execution_count": 16,
   "metadata": {},
   "outputs": [
    {
     "name": "stdout",
     "output_type": "stream",
     "text": [
      "[1, 5, 9, 12, 6, 10]\n",
      "[5, 6, 9, 12, 10, 1]\n",
      "[6, 10, 9, 12, 5, 1]\n",
      "[9, 10, 12, 6, 5, 1]\n",
      "[10, 12, 9, 6, 5, 1]\n",
      "[12, 10, 9, 6, 5, 1]\n"
     ]
    }
   ],
   "source": [
    "A = [1, 12, 9, 5, 6, 10]\n",
    "heap_sort_desc(A)"
   ]
  },
  {
   "cell_type": "code",
   "execution_count": 17,
   "metadata": {},
   "outputs": [
    {
     "name": "stdout",
     "output_type": "stream",
     "text": [
      "[4, 5, 6, 15, 9, 7, 17, 16, 25, 14, 12, 11, 8, 23, 20]\n",
      "[5, 9, 6, 15, 12, 7, 17, 16, 25, 14, 20, 11, 8, 23, 4]\n",
      "[6, 9, 7, 15, 12, 8, 17, 16, 25, 14, 20, 11, 23, 5, 4]\n",
      "[7, 9, 8, 15, 12, 11, 17, 16, 25, 14, 20, 23, 6, 5, 4]\n",
      "[8, 9, 11, 15, 12, 23, 17, 16, 25, 14, 20, 7, 6, 5, 4]\n",
      "[9, 12, 11, 15, 14, 23, 17, 16, 25, 20, 8, 7, 6, 5, 4]\n",
      "[11, 12, 17, 15, 14, 23, 20, 16, 25, 9, 8, 7, 6, 5, 4]\n",
      "[12, 14, 17, 15, 25, 23, 20, 16, 11, 9, 8, 7, 6, 5, 4]\n",
      "[14, 15, 17, 16, 25, 23, 20, 12, 11, 9, 8, 7, 6, 5, 4]\n",
      "[15, 16, 17, 20, 25, 23, 14, 12, 11, 9, 8, 7, 6, 5, 4]\n",
      "[16, 20, 17, 23, 25, 15, 14, 12, 11, 9, 8, 7, 6, 5, 4]\n",
      "[17, 20, 25, 23, 16, 15, 14, 12, 11, 9, 8, 7, 6, 5, 4]\n",
      "[20, 23, 25, 17, 16, 15, 14, 12, 11, 9, 8, 7, 6, 5, 4]\n",
      "[23, 25, 20, 17, 16, 15, 14, 12, 11, 9, 8, 7, 6, 5, 4]\n",
      "[25, 23, 20, 17, 16, 15, 14, 12, 11, 9, 8, 7, 6, 5, 4]\n"
     ]
    }
   ],
   "source": [
    "A = [14, 5, 8, 25, 9, 11, 17, 16, 15, 4, 12, 6, 7, 23, 20]\n",
    "heap_sort_desc(A)"
   ]
  },
  {
   "cell_type": "code",
   "execution_count": 18,
   "metadata": {},
   "outputs": [
    {
     "name": "stdout",
     "output_type": "stream",
     "text": [
      "[1, 3, 2, 9, 4, 5]\n",
      "[2, 3, 5, 9, 4, 1]\n",
      "[3, 4, 5, 9, 2, 1]\n",
      "[4, 9, 5, 3, 2, 1]\n",
      "[5, 9, 4, 3, 2, 1]\n",
      "[9, 5, 4, 3, 2, 1]\n"
     ]
    }
   ],
   "source": [
    "A = [3, 9, 2, 1, 4, 5]\n",
    "heap_sort_desc(A)"
   ]
  }
 ],
 "metadata": {
  "kernelspec": {
   "display_name": "Python 3",
   "language": "python",
   "name": "python3"
  },
  "language_info": {
   "codemirror_mode": {
    "name": "ipython",
    "version": 3
   },
   "file_extension": ".py",
   "mimetype": "text/x-python",
   "name": "python",
   "nbconvert_exporter": "python",
   "pygments_lexer": "ipython3",
   "version": "3.12.1"
  }
 },
 "nbformat": 4,
 "nbformat_minor": 2
}
